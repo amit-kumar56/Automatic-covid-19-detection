{
 "cells": [
  {
   "cell_type": "code",
   "execution_count": null,
   "metadata": {},
   "outputs": [],
   "source": [
    "########################################(*)Description of dataset(*)##############################################\n",
    "#  \n",
    "#                                     covid19-detection-xray-dataset\n",
    "#                                                  |\n",
    "#------------------------------------------------------------------------------------------------------------------\n",
    "#                      |                             |                                  |\n",
    "#                  Train_Data                      Valid_data                       Test_Data\n",
    "#                      |                               |                                |\n",
    "#    ---------------------------------    -----------------------------     ------------------------------\n",
    "#        |       |        |        |        |       |      |       |         |         |        |        |\n",
    "#   Bacterial COVID-19 Normal   Viral  Bacterial COVID-19 Normal Viral  Bacterial   COVID-19   Normal  Viral\n",
    "#   Pneumonia               Pneumonia  Pneumonia               Pneumonia Pneumonia                    Pneumonia\n",
    "#\n",
    "#\n",
    "####################################################################################################################\n"
   ]
  },
  {
   "cell_type": "code",
   "execution_count": null,
   "metadata": {},
   "outputs": [],
   "source": [
    "#########################################(*)Task given(*)########################################################\n",
    "\n",
    "#  1) Getting the X-Ray images of the lungs/chest for detecting COVID-19. ->I have downloaded it from Kaggle.\n",
    "\n",
    "#  2) Data augmentation has been done.\n",
    "\n",
    "#  3) I have used VGG16 as transfer learning technique to use the Convolution base layers of pretrained models.\n",
    "\n",
    "# Note:- I have also downloaded the Resnet50 transfer learning technique but i have not tried it till now but like to try it later.\n",
    "# Note:- I would also like to use concept of fine tuning so that i can increase accuracy of my classification .  \n",
    "\n",
    "#  4) Various evaluation like training accuracy, validation accuracy, training/validation error rate,test accuracy/loss has been done .\n",
    " \n",
    "# Note:- I have also shown these evaluation using graph.\n",
    "\n",
    "#  5) I am sorry sir, i have not prepared report describing the finding of my project till now.\n",
    "\n",
    "#########################################################################################################################\n"
   ]
  },
  {
   "cell_type": "code",
   "execution_count": 1,
   "metadata": {},
   "outputs": [
    {
     "name": "stderr",
     "output_type": "stream",
     "text": [
      "Using TensorFlow backend.\n",
      "/home/heroo/snap/jupyter/common/lib/python3.7/site-packages/joblib/_multiprocessing_helpers.py:45: UserWarning: [Errno 13] Permission denied.  joblib will operate in serial mode\n",
      "  warnings.warn('%s.  joblib will operate in serial mode' % (e,))\n"
     ]
    }
   ],
   "source": [
    "# Importing the Keras libraries and packages\n",
    "import pandas as pd\n",
    "import numpy as np \n",
    "import itertools\n",
    "import keras\n",
    "from sklearn import metrics\n",
    "from sklearn.metrics import confusion_matrix\n",
    "from keras.models import Sequential\n",
    "from keras.layers import Conv2D\n",
    "from keras.layers import MaxPooling2D\n",
    "from keras.layers import Flatten\n",
    "from keras.layers import Dense\n",
    "from keras.layers import Activation, Dropout,BatchNormalization\n",
    "from keras import optimizers\n",
    "from keras import applications\n",
    "from keras.preprocessing import image\n",
    "from keras.preprocessing.image import ImageDataGenerator\n",
    "from keras import applications \n",
    "from keras.utils.np_utils import to_categorical \n",
    "import matplotlib.pyplot as plt \n",
    "import matplotlib.image as mpimg\n",
    "import math \n",
    "import datetime\n",
    "import time\n",
    "import tensorflow as tf\n",
    "from keras.optimizers import Adam"
   ]
  },
  {
   "cell_type": "code",
   "execution_count": 2,
   "metadata": {},
   "outputs": [],
   "source": [
    "classifier = Sequential()\n",
    "classifier.add(Conv2D(32, (3, 3), input_shape=(64,64,3),strides = (1, 1), name = 'conv0', activation = 'relu'))\n",
    "classifier.add(BatchNormalization(axis = 3, name = 'bn0'))\n",
    "\n",
    "classifier.add(MaxPooling2D(pool_size=(2, 2)))\n",
    "\n",
    "classifier.add(Conv2D(32, (3, 3),activation = 'relu'))\n",
    "classifier.add(MaxPooling2D(pool_size=(2, 2)))\n",
    "\n",
    "classifier.add(Conv2D(64, (3, 3),activation = 'relu'))\n",
    "classifier.add(MaxPooling2D(pool_size=(2, 2)))\n",
    "\n",
    "\n",
    "\n",
    "classifier.add(Flatten())  # this converts our 3D feature maps to 1D feature vectors\n",
    "classifier.add(Dense(units = 128, activation = 'relu'))\n",
    "classifier.add(Dropout(0.5))\n",
    "\n",
    "classifier.add(Dense(units = 1, activation='sigmoid'))\n",
    "\n",
    "classifier.compile(loss='binary_crossentropy',\n",
    "                   optimizer=Adam(lr=1e-5),\n",
    "                   metrics=['accuracy'])"
   ]
  },
  {
   "cell_type": "code",
   "execution_count": 234,
   "metadata": {},
   "outputs": [],
   "source": [
    "         #NOW TIME TO AUGMENTING THE IMAGE\n",
    "#Now i am using data-generator to reduce overfitting of our model\n",
    "#for this i shall use .flow_from_directory() to generate batches of image data directly from our directory."
   ]
  },
  {
   "cell_type": "code",
   "execution_count": 3,
   "metadata": {},
   "outputs": [],
   "source": [
    "#THIS AUGMENTATION IS FOR TRAINING SET\n",
    "\n",
    "batch_size=32\n",
    "\n",
    "train_datagen = ImageDataGenerator(rescale = 1./255,\n",
    "                                   shear_range = 0.2,\n",
    "                                   zoom_range = 0.2,\n",
    "                                   horizontal_flip = True)\n"
   ]
  },
  {
   "cell_type": "code",
   "execution_count": 4,
   "metadata": {},
   "outputs": [],
   "source": [
    "#THIS AUGMENTAION IS FOR TEST SET/VALIDATION SET\n",
    "\n",
    "test_datagen = ImageDataGenerator(rescale = 1./255)"
   ]
  },
  {
   "cell_type": "code",
   "execution_count": 237,
   "metadata": {},
   "outputs": [
    {
     "name": "stdout",
     "output_type": "stream",
     "text": [
      "Requirement already satisfied: split-folders in /home/heroo/snap/jupyter/common/lib/python3.7/site-packages (0.3.1)\n",
      "Note: you may need to restart the kernel to use updated packages.\n"
     ]
    }
   ],
   "source": [
    "pip install split-folders"
   ]
  },
  {
   "cell_type": "code",
   "execution_count": 7,
   "metadata": {},
   "outputs": [
    {
     "name": "stdout",
     "output_type": "stream",
     "text": [
      "Requirement already satisfied: split-folders in /home/heroo/snap/jupyter/common/lib/python3.7/site-packages (0.3.1)\n",
      "Requirement already satisfied: tqdm in /home/heroo/snap/jupyter/common/lib/python3.7/site-packages (4.46.0)\n",
      "Note: you may need to restart the kernel to use updated packages.\n"
     ]
    }
   ],
   "source": [
    "pip install split-folders tqdm\n"
   ]
  },
  {
   "cell_type": "code",
   "execution_count": 8,
   "metadata": {},
   "outputs": [
    {
     "name": "stderr",
     "output_type": "stream",
     "text": [
      "Copying files: 280 files [00:01, 145.15 files/s]\n"
     ]
    }
   ],
   "source": [
    "#spliting the dataset folder into train/val/test set\n",
    "\n",
    "import split_folders\n",
    "\n",
    "pth='/home/heroo/Downloads/datascence _coursera/Test Corona X-Ray Samples-20200530T113751Z-001/Test Corona X-Ray Samples'\n",
    "\n",
    "\n",
    "split_folders.ratio(pth, output=\"output\", seed=1337, ratio=(.8, .1, .1)) # default values"
   ]
  },
  {
   "cell_type": "code",
   "execution_count": 8,
   "metadata": {
    "scrolled": false
   },
   "outputs": [
    {
     "name": "stdout",
     "output_type": "stream",
     "text": [
      "Found 224 images belonging to 2 classes.\n"
     ]
    }
   ],
   "source": [
    "#This generator for training set\n",
    "#target_size= dimension of input shape in cnn\n",
    "train_pth='/home/heroo/datascience/output/train'\n",
    "training_set = train_datagen.flow_from_directory(train_pth,\n",
    "                                                 target_size = (64, 64),\n",
    "                                                 batch_size =32,\n",
    "                                                class_mode='binary', \n",
    "                                                )\n"
   ]
  },
  {
   "cell_type": "code",
   "execution_count": 9,
   "metadata": {},
   "outputs": [
    {
     "name": "stdout",
     "output_type": "stream",
     "text": [
      "number of image in training set :  224\n",
      "total number of class in training set :  2\n"
     ]
    }
   ],
   "source": [
    "total_train_image = len(training_set.filenames) \n",
    "total_image_classes = len(training_set.class_indices) \n",
    "\n",
    "print('number of image in training set : ',total_train_image)\n",
    "\n",
    "print('total number of class in training set : ',total_image_classes)"
   ]
  },
  {
   "cell_type": "code",
   "execution_count": 31,
   "metadata": {},
   "outputs": [],
   "source": [
    "#x_train,y_train=next(training_set)"
   ]
  },
  {
   "cell_type": "code",
   "execution_count": 32,
   "metadata": {},
   "outputs": [
    {
     "data": {
      "text/plain": [
       "(32, 64, 64, 3)"
      ]
     },
     "execution_count": 32,
     "metadata": {},
     "output_type": "execute_result"
    }
   ],
   "source": [
    "#x_train.shape"
   ]
  },
  {
   "cell_type": "code",
   "execution_count": 35,
   "metadata": {},
   "outputs": [
    {
     "name": "stdout",
     "output_type": "stream",
     "text": [
      "(32,)\n"
     ]
    }
   ],
   "source": [
    "#print(y_train.shape)"
   ]
  },
  {
   "cell_type": "code",
   "execution_count": 314,
   "metadata": {},
   "outputs": [
    {
     "name": "stdout",
     "output_type": "stream",
     "text": [
      "(896, 896, 3)\n"
     ]
    },
    {
     "data": {
      "image/png": "[encoded data removed]",
      "text/plain": [
       "<Figure size 432x288 with 1 Axes>"
      ]
     },
     "metadata": {
      "needs_background": "light"
     },
     "output_type": "display_data"
    }
   ],
   "source": [
    "import seaborn as sns\n",
    "import sys\n",
    "import os\n",
    "import ssl\n",
    "import random\n",
    "import cv2 \n",
    "import numpy as np\n",
    "ssl._create_default_https_context = ssl._create_unverified_context\n",
    "\n",
    "x_path='/home/heroo/datascience/output/train/Corona/Corona1_1.jpg'\n",
    "\n",
    "\n",
    "if os.path.isfile(x_path):\n",
    "    img1 = cv2.imread(x_path)\n",
    "    plt.imshow(img1)\n",
    "    print(img1.shape)"
   ]
  },
  {
   "cell_type": "code",
   "execution_count": 10,
   "metadata": {
    "collapsed": true
   },
   "outputs": [
    {
     "name": "stdout",
     "output_type": "stream",
     "text": [
      "training classes [[1. 0.]\n",
      " [1. 0.]\n",
      " [1. 0.]\n",
      " [1. 0.]\n",
      " [1. 0.]\n",
      " [1. 0.]\n",
      " [1. 0.]\n",
      " [1. 0.]\n",
      " [1. 0.]\n",
      " [1. 0.]\n",
      " [1. 0.]\n",
      " [1. 0.]\n",
      " [1. 0.]\n",
      " [1. 0.]\n",
      " [1. 0.]\n",
      " [1. 0.]\n",
      " [1. 0.]\n",
      " [1. 0.]\n",
      " [1. 0.]\n",
      " [1. 0.]\n",
      " [1. 0.]\n",
      " [1. 0.]\n",
      " [1. 0.]\n",
      " [1. 0.]\n",
      " [1. 0.]\n",
      " [1. 0.]\n",
      " [1. 0.]\n",
      " [1. 0.]\n",
      " [1. 0.]\n",
      " [1. 0.]\n",
      " [1. 0.]\n",
      " [1. 0.]\n",
      " [1. 0.]\n",
      " [1. 0.]\n",
      " [1. 0.]\n",
      " [1. 0.]\n",
      " [1. 0.]\n",
      " [1. 0.]\n",
      " [1. 0.]\n",
      " [1. 0.]\n",
      " [1. 0.]\n",
      " [1. 0.]\n",
      " [1. 0.]\n",
      " [1. 0.]\n",
      " [1. 0.]\n",
      " [1. 0.]\n",
      " [1. 0.]\n",
      " [1. 0.]\n",
      " [1. 0.]\n",
      " [1. 0.]\n",
      " [1. 0.]\n",
      " [1. 0.]\n",
      " [1. 0.]\n",
      " [1. 0.]\n",
      " [1. 0.]\n",
      " [1. 0.]\n",
      " [1. 0.]\n",
      " [1. 0.]\n",
      " [1. 0.]\n",
      " [1. 0.]\n",
      " [1. 0.]\n",
      " [1. 0.]\n",
      " [1. 0.]\n",
      " [1. 0.]\n",
      " [1. 0.]\n",
      " [1. 0.]\n",
      " [1. 0.]\n",
      " [1. 0.]\n",
      " [1. 0.]\n",
      " [1. 0.]\n",
      " [1. 0.]\n",
      " [1. 0.]\n",
      " [1. 0.]\n",
      " [1. 0.]\n",
      " [1. 0.]\n",
      " [1. 0.]\n",
      " [1. 0.]\n",
      " [1. 0.]\n",
      " [1. 0.]\n",
      " [1. 0.]\n",
      " [1. 0.]\n",
      " [1. 0.]\n",
      " [1. 0.]\n",
      " [1. 0.]\n",
      " [1. 0.]\n",
      " [1. 0.]\n",
      " [1. 0.]\n",
      " [1. 0.]\n",
      " [1. 0.]\n",
      " [1. 0.]\n",
      " [1. 0.]\n",
      " [1. 0.]\n",
      " [1. 0.]\n",
      " [1. 0.]\n",
      " [1. 0.]\n",
      " [1. 0.]\n",
      " [1. 0.]\n",
      " [1. 0.]\n",
      " [1. 0.]\n",
      " [1. 0.]\n",
      " [1. 0.]\n",
      " [1. 0.]\n",
      " [1. 0.]\n",
      " [1. 0.]\n",
      " [1. 0.]\n",
      " [1. 0.]\n",
      " [1. 0.]\n",
      " [1. 0.]\n",
      " [1. 0.]\n",
      " [1. 0.]\n",
      " [1. 0.]\n",
      " [1. 0.]\n",
      " [0. 1.]\n",
      " [0. 1.]\n",
      " [0. 1.]\n",
      " [0. 1.]\n",
      " [0. 1.]\n",
      " [0. 1.]\n",
      " [0. 1.]\n",
      " [0. 1.]\n",
      " [0. 1.]\n",
      " [0. 1.]\n",
      " [0. 1.]\n",
      " [0. 1.]\n",
      " [0. 1.]\n",
      " [0. 1.]\n",
      " [0. 1.]\n",
      " [0. 1.]\n",
      " [0. 1.]\n",
      " [0. 1.]\n",
      " [0. 1.]\n",
      " [0. 1.]\n",
      " [0. 1.]\n",
      " [0. 1.]\n",
      " [0. 1.]\n",
      " [0. 1.]\n",
      " [0. 1.]\n",
      " [0. 1.]\n",
      " [0. 1.]\n",
      " [0. 1.]\n",
      " [0. 1.]\n",
      " [0. 1.]\n",
      " [0. 1.]\n",
      " [0. 1.]\n",
      " [0. 1.]\n",
      " [0. 1.]\n",
      " [0. 1.]\n",
      " [0. 1.]\n",
      " [0. 1.]\n",
      " [0. 1.]\n",
      " [0. 1.]\n",
      " [0. 1.]\n",
      " [0. 1.]\n",
      " [0. 1.]\n",
      " [0. 1.]\n",
      " [0. 1.]\n",
      " [0. 1.]\n",
      " [0. 1.]\n",
      " [0. 1.]\n",
      " [0. 1.]\n",
      " [0. 1.]\n",
      " [0. 1.]\n",
      " [0. 1.]\n",
      " [0. 1.]\n",
      " [0. 1.]\n",
      " [0. 1.]\n",
      " [0. 1.]\n",
      " [0. 1.]\n",
      " [0. 1.]\n",
      " [0. 1.]\n",
      " [0. 1.]\n",
      " [0. 1.]\n",
      " [0. 1.]\n",
      " [0. 1.]\n",
      " [0. 1.]\n",
      " [0. 1.]\n",
      " [0. 1.]\n",
      " [0. 1.]\n",
      " [0. 1.]\n",
      " [0. 1.]\n",
      " [0. 1.]\n",
      " [0. 1.]\n",
      " [0. 1.]\n",
      " [0. 1.]\n",
      " [0. 1.]\n",
      " [0. 1.]\n",
      " [0. 1.]\n",
      " [0. 1.]\n",
      " [0. 1.]\n",
      " [0. 1.]\n",
      " [0. 1.]\n",
      " [0. 1.]\n",
      " [0. 1.]\n",
      " [0. 1.]\n",
      " [0. 1.]\n",
      " [0. 1.]\n",
      " [0. 1.]\n",
      " [0. 1.]\n",
      " [0. 1.]\n",
      " [0. 1.]\n",
      " [0. 1.]\n",
      " [0. 1.]\n",
      " [0. 1.]\n",
      " [0. 1.]\n",
      " [0. 1.]\n",
      " [0. 1.]\n",
      " [0. 1.]\n",
      " [0. 1.]\n",
      " [0. 1.]\n",
      " [0. 1.]\n",
      " [0. 1.]\n",
      " [0. 1.]\n",
      " [0. 1.]\n",
      " [0. 1.]\n",
      " [0. 1.]\n",
      " [0. 1.]\n",
      " [0. 1.]\n",
      " [0. 1.]\n",
      " [0. 1.]\n",
      " [0. 1.]\n",
      " [0. 1.]\n",
      " [0. 1.]\n",
      " [0. 1.]\n",
      " [0. 1.]]\n",
      "training classes shape (224, 2)\n"
     ]
    }
   ],
   "source": [
    "#convert the training classes into catogory\n",
    "\n",
    "training_classes = training_set.classes \n",
    "\n",
    "# convert the training labels to categorical vectors \n",
    "training_classes = to_categorical(training_classes, num_classes=total_image_classes)\n",
    "print('training classes',training_classes)\n",
    "print('training classes shape',training_classes.shape)"
   ]
  },
  {
   "cell_type": "code",
   "execution_count": 11,
   "metadata": {
    "collapsed": true
   },
   "outputs": [
    {
     "name": "stdout",
     "output_type": "stream",
     "text": [
      "[[1. 0.]\n",
      " [1. 0.]\n",
      " [1. 0.]\n",
      " [1. 0.]\n",
      " [1. 0.]\n",
      " [1. 0.]\n",
      " [1. 0.]\n",
      " [1. 0.]\n",
      " [1. 0.]\n",
      " [1. 0.]\n",
      " [1. 0.]\n",
      " [1. 0.]\n",
      " [1. 0.]\n",
      " [1. 0.]\n",
      " [1. 0.]\n",
      " [1. 0.]\n",
      " [1. 0.]\n",
      " [1. 0.]\n",
      " [1. 0.]\n",
      " [1. 0.]\n",
      " [1. 0.]\n",
      " [1. 0.]\n",
      " [1. 0.]\n",
      " [1. 0.]\n",
      " [1. 0.]\n",
      " [1. 0.]\n",
      " [1. 0.]\n",
      " [1. 0.]\n",
      " [1. 0.]\n",
      " [1. 0.]\n",
      " [1. 0.]\n",
      " [1. 0.]\n",
      " [1. 0.]\n",
      " [1. 0.]\n",
      " [1. 0.]\n",
      " [1. 0.]\n",
      " [1. 0.]\n",
      " [1. 0.]\n",
      " [1. 0.]\n",
      " [1. 0.]\n",
      " [1. 0.]\n",
      " [1. 0.]\n",
      " [1. 0.]\n",
      " [1. 0.]\n",
      " [1. 0.]\n",
      " [1. 0.]\n",
      " [1. 0.]\n",
      " [1. 0.]\n",
      " [1. 0.]\n",
      " [1. 0.]\n",
      " [1. 0.]\n",
      " [1. 0.]\n",
      " [1. 0.]\n",
      " [1. 0.]\n",
      " [1. 0.]\n",
      " [1. 0.]\n",
      " [1. 0.]\n",
      " [1. 0.]\n",
      " [1. 0.]\n",
      " [1. 0.]\n",
      " [1. 0.]\n",
      " [1. 0.]\n",
      " [1. 0.]\n",
      " [1. 0.]\n",
      " [1. 0.]\n",
      " [1. 0.]\n",
      " [1. 0.]\n",
      " [1. 0.]\n",
      " [1. 0.]\n",
      " [1. 0.]\n",
      " [1. 0.]\n",
      " [1. 0.]\n",
      " [1. 0.]\n",
      " [1. 0.]\n",
      " [1. 0.]\n",
      " [1. 0.]\n",
      " [1. 0.]\n",
      " [1. 0.]\n",
      " [1. 0.]\n",
      " [1. 0.]\n",
      " [1. 0.]\n",
      " [1. 0.]\n",
      " [1. 0.]\n",
      " [1. 0.]\n",
      " [1. 0.]\n",
      " [1. 0.]\n",
      " [1. 0.]\n",
      " [1. 0.]\n",
      " [1. 0.]\n",
      " [1. 0.]\n",
      " [1. 0.]\n",
      " [1. 0.]\n",
      " [1. 0.]\n",
      " [1. 0.]\n",
      " [1. 0.]\n",
      " [1. 0.]\n",
      " [1. 0.]\n",
      " [1. 0.]\n",
      " [1. 0.]\n",
      " [1. 0.]\n",
      " [1. 0.]\n",
      " [1. 0.]\n",
      " [1. 0.]\n",
      " [1. 0.]\n",
      " [1. 0.]\n",
      " [1. 0.]\n",
      " [1. 0.]\n",
      " [1. 0.]\n",
      " [1. 0.]\n",
      " [1. 0.]\n",
      " [1. 0.]\n",
      " [1. 0.]\n",
      " [0. 1.]\n",
      " [0. 1.]\n",
      " [0. 1.]\n",
      " [0. 1.]\n",
      " [0. 1.]\n",
      " [0. 1.]\n",
      " [0. 1.]\n",
      " [0. 1.]\n",
      " [0. 1.]\n",
      " [0. 1.]\n",
      " [0. 1.]\n",
      " [0. 1.]\n",
      " [0. 1.]\n",
      " [0. 1.]\n",
      " [0. 1.]\n",
      " [0. 1.]\n",
      " [0. 1.]\n",
      " [0. 1.]\n",
      " [0. 1.]\n",
      " [0. 1.]\n",
      " [0. 1.]\n",
      " [0. 1.]\n",
      " [0. 1.]\n",
      " [0. 1.]\n",
      " [0. 1.]\n",
      " [0. 1.]\n",
      " [0. 1.]\n",
      " [0. 1.]\n",
      " [0. 1.]\n",
      " [0. 1.]\n",
      " [0. 1.]\n",
      " [0. 1.]\n",
      " [0. 1.]\n",
      " [0. 1.]\n",
      " [0. 1.]\n",
      " [0. 1.]\n",
      " [0. 1.]\n",
      " [0. 1.]\n",
      " [0. 1.]\n",
      " [0. 1.]\n",
      " [0. 1.]\n",
      " [0. 1.]\n",
      " [0. 1.]\n",
      " [0. 1.]\n",
      " [0. 1.]\n",
      " [0. 1.]\n",
      " [0. 1.]\n",
      " [0. 1.]\n",
      " [0. 1.]\n",
      " [0. 1.]\n",
      " [0. 1.]\n",
      " [0. 1.]\n",
      " [0. 1.]\n",
      " [0. 1.]\n",
      " [0. 1.]\n",
      " [0. 1.]\n",
      " [0. 1.]\n",
      " [0. 1.]\n",
      " [0. 1.]\n",
      " [0. 1.]\n",
      " [0. 1.]\n",
      " [0. 1.]\n",
      " [0. 1.]\n",
      " [0. 1.]\n",
      " [0. 1.]\n",
      " [0. 1.]\n",
      " [0. 1.]\n",
      " [0. 1.]\n",
      " [0. 1.]\n",
      " [0. 1.]\n",
      " [0. 1.]\n",
      " [0. 1.]\n",
      " [0. 1.]\n",
      " [0. 1.]\n",
      " [0. 1.]\n",
      " [0. 1.]\n",
      " [0. 1.]\n",
      " [0. 1.]\n",
      " [0. 1.]\n",
      " [0. 1.]\n",
      " [0. 1.]\n",
      " [0. 1.]\n",
      " [0. 1.]\n",
      " [0. 1.]\n",
      " [0. 1.]\n",
      " [0. 1.]\n",
      " [0. 1.]\n",
      " [0. 1.]\n",
      " [0. 1.]\n",
      " [0. 1.]\n",
      " [0. 1.]\n",
      " [0. 1.]\n",
      " [0. 1.]\n",
      " [0. 1.]\n",
      " [0. 1.]\n",
      " [0. 1.]\n",
      " [0. 1.]\n",
      " [0. 1.]\n",
      " [0. 1.]\n",
      " [0. 1.]\n",
      " [0. 1.]\n",
      " [0. 1.]\n",
      " [0. 1.]\n",
      " [0. 1.]\n",
      " [0. 1.]\n",
      " [0. 1.]\n",
      " [0. 1.]\n",
      " [0. 1.]\n",
      " [0. 1.]\n",
      " [0. 1.]\n",
      " [0. 1.]\n",
      " [0. 1.]]\n"
     ]
    }
   ],
   "source": [
    "training_classes.shape\n",
    "print(training_classes)"
   ]
  },
  {
   "cell_type": "code",
   "execution_count": 12,
   "metadata": {},
   "outputs": [
    {
     "name": "stdout",
     "output_type": "stream",
     "text": [
      "Found 28 images belonging to 2 classes.\n"
     ]
    }
   ],
   "source": [
    "#This generator for validation set\n",
    "\n",
    "valid_pth='/home/heroo/datascience/output/val'\n",
    "\n",
    "validation_set = test_datagen.flow_from_directory(valid_pth,\n",
    "                                            target_size = (64, 64),\n",
    "                                            batch_size = 7,\n",
    "                                            class_mode ='binary' ,\n",
    "                                            )\n",
    "\n"
   ]
  },
  {
   "cell_type": "code",
   "execution_count": 13,
   "metadata": {},
   "outputs": [
    {
     "name": "stdout",
     "output_type": "stream",
     "text": [
      "number of image in validation set :  28\n",
      "total number of class in  validation set :  2\n"
     ]
    }
   ],
   "source": [
    "total_validation_image = len(validation_set.filenames) \n",
    "total_vimage_classes = len(validation_set.class_indices) \n",
    "\n",
    "print('number of image in validation set : ',total_validation_image)\n",
    "\n",
    "print('total number of class in  validation set : ',total_vimage_classes)"
   ]
  },
  {
   "cell_type": "code",
   "execution_count": 16,
   "metadata": {
    "collapsed": true
   },
   "outputs": [
    {
     "name": "stdout",
     "output_type": "stream",
     "text": [
      "(896, 896, 3)\n"
     ]
    },
    {
     "data": {
      "image/png": "[encoded data removed]",
      "text/plain": [
       "<Figure size 432x288 with 1 Axes>"
      ]
     },
     "metadata": {
      "needs_background": "light"
     },
     "output_type": "display_data"
    }
   ],
   "source": [
    "v_path='/home/heroo/datascience/output/val/Corona/Corona1_5.jpg'\n",
    "\n",
    "\n",
    "if os.path.isfile(v_path):\n",
    "    img1 = cv2.imread(v_path)\n",
    "    plt.imshow(img1)\n",
    "    print(img1.shape)"
   ]
  },
  {
   "cell_type": "code",
   "execution_count": 17,
   "metadata": {
    "collapsed": true
   },
   "outputs": [
    {
     "name": "stdout",
     "output_type": "stream",
     "text": [
      "validation classes [[1. 0.]\n",
      " [1. 0.]\n",
      " [1. 0.]\n",
      " [1. 0.]\n",
      " [1. 0.]\n",
      " [1. 0.]\n",
      " [1. 0.]\n",
      " [1. 0.]\n",
      " [1. 0.]\n",
      " [1. 0.]\n",
      " [1. 0.]\n",
      " [1. 0.]\n",
      " [1. 0.]\n",
      " [1. 0.]\n",
      " [0. 1.]\n",
      " [0. 1.]\n",
      " [0. 1.]\n",
      " [0. 1.]\n",
      " [0. 1.]\n",
      " [0. 1.]\n",
      " [0. 1.]\n",
      " [0. 1.]\n",
      " [0. 1.]\n",
      " [0. 1.]\n",
      " [0. 1.]\n",
      " [0. 1.]\n",
      " [0. 1.]\n",
      " [0. 1.]]\n",
      "validation classes shape (28, 2)\n"
     ]
    }
   ],
   "source": [
    "#convert the validation classes into catogory\n",
    "\n",
    "validation_classes = validation_set.classes \n",
    "\n",
    "# convert the training labels to categorical vectors \n",
    "validation_classes = to_categorical(validation_classes, num_classes=total_vimage_classes)\n",
    "print('validation classes',validation_classes)\n",
    "print('validation classes shape',validation_classes.shape)"
   ]
  },
  {
   "cell_type": "code",
   "execution_count": 18,
   "metadata": {},
   "outputs": [
    {
     "name": "stdout",
     "output_type": "stream",
     "text": [
      "Found 28 images belonging to 2 classes.\n"
     ]
    }
   ],
   "source": [
    "#This generator for test set\n",
    "\n",
    "test_pth='/home/heroo/datascience/output/test'\n",
    "\n",
    "test_set = test_datagen.flow_from_directory(test_pth,\n",
    "                                            target_size = (64, 64),\n",
    "                                            batch_size = 7,\n",
    "                                            class_mode ='binary' ,\n",
    "                                            )\n"
   ]
  },
  {
   "cell_type": "code",
   "execution_count": null,
   "metadata": {},
   "outputs": [],
   "source": []
  },
  {
   "cell_type": "code",
   "execution_count": 19,
   "metadata": {},
   "outputs": [
    {
     "name": "stdout",
     "output_type": "stream",
     "text": [
      "number of image in test set :  28\n",
      "total number of class in  test set :  2\n"
     ]
    }
   ],
   "source": [
    "total_test_image = len(test_set.filenames) \n",
    "total_timage_classes = len(test_set.class_indices) \n",
    "\n",
    "print('number of image in test set : ',total_test_image)\n",
    "\n",
    "print('total number of class in  test set : ',total_timage_classes)"
   ]
  },
  {
   "cell_type": "code",
   "execution_count": 20,
   "metadata": {
    "collapsed": true
   },
   "outputs": [
    {
     "name": "stdout",
     "output_type": "stream",
     "text": [
      "(896, 896, 3)\n"
     ]
    },
    {
     "data": {
      "image/png": "[encoded data removed]",
      "text/plain": [
       "<Figure size 432x288 with 1 Axes>"
      ]
     },
     "metadata": {
      "needs_background": "light"
     },
     "output_type": "display_data"
    }
   ],
   "source": [
    "t_path='/home/heroo/datascience/output/test/Corona/Corona1_34.jpg'\n",
    "\n",
    "\n",
    "if os.path.isfile(t_path):\n",
    "    img2 = cv2.imread(t_path)\n",
    "    plt.imshow(img2)\n",
    "    print(img2.shape)"
   ]
  },
  {
   "cell_type": "code",
   "execution_count": 21,
   "metadata": {
    "collapsed": true
   },
   "outputs": [
    {
     "name": "stdout",
     "output_type": "stream",
     "text": [
      "test classes [[1. 0.]\n",
      " [1. 0.]\n",
      " [1. 0.]\n",
      " [1. 0.]\n",
      " [1. 0.]\n",
      " [1. 0.]\n",
      " [1. 0.]\n",
      " [1. 0.]\n",
      " [1. 0.]\n",
      " [1. 0.]\n",
      " [1. 0.]\n",
      " [1. 0.]\n",
      " [1. 0.]\n",
      " [1. 0.]\n",
      " [0. 1.]\n",
      " [0. 1.]\n",
      " [0. 1.]\n",
      " [0. 1.]\n",
      " [0. 1.]\n",
      " [0. 1.]\n",
      " [0. 1.]\n",
      " [0. 1.]\n",
      " [0. 1.]\n",
      " [0. 1.]\n",
      " [0. 1.]\n",
      " [0. 1.]\n",
      " [0. 1.]\n",
      " [0. 1.]]\n",
      "test classes shape (28, 2)\n"
     ]
    }
   ],
   "source": [
    "#convert the test classes into catogory\n",
    "\n",
    "test_classes = test_set.classes \n",
    "\n",
    "# convert the test labels to categorical vectors \n",
    "test_classes = to_categorical(test_classes, num_classes=total_timage_classes)\n",
    "print('test classes',validation_classes)\n",
    "print('test classes shape',test_classes.shape)"
   ]
  },
  {
   "cell_type": "code",
   "execution_count": 42,
   "metadata": {
    "scrolled": true
   },
   "outputs": [
    {
     "name": "stderr",
     "output_type": "stream",
     "text": [
      "/snap/jupyter/6/lib/python3.7/site-packages/ipykernel_launcher.py:8: UserWarning: The semantics of the Keras 2 argument `steps_per_epoch` is not the same as the Keras 1 argument `samples_per_epoch`. `steps_per_epoch` is the number of batches to draw from the generator at each epoch. Basically steps_per_epoch = samples_per_epoch/batch_size. Similarly `nb_val_samples`->`validation_steps` and `val_samples`->`steps` arguments have changed. Update your method calls accordingly.\n",
      "  \n",
      "/snap/jupyter/6/lib/python3.7/site-packages/ipykernel_launcher.py:8: UserWarning: Update your `fit_generator` call to the Keras 2 API: `fit_generator(<keras.pre..., steps_per_epoch=7, validation_data=<keras.pre..., validation_steps=4, epochs=10)`\n",
      "  \n"
     ]
    },
    {
     "name": "stdout",
     "output_type": "stream",
     "text": [
      "Epoch 1/10\n",
      "7/7 [==============================] - 3s 364ms/step - loss: 0.0144 - accuracy: 0.9955 - val_loss: 0.0051 - val_accuracy: 1.0000\n",
      "Epoch 2/10\n",
      "7/7 [==============================] - 2s 330ms/step - loss: 0.0162 - accuracy: 1.0000 - val_loss: 0.0101 - val_accuracy: 1.0000\n",
      "Epoch 3/10\n",
      "7/7 [==============================] - 2s 315ms/step - loss: 0.0132 - accuracy: 1.0000 - val_loss: 0.0083 - val_accuracy: 1.0000\n",
      "Epoch 4/10\n",
      "7/7 [==============================] - 2s 311ms/step - loss: 0.0116 - accuracy: 1.0000 - val_loss: 0.0098 - val_accuracy: 1.0000\n",
      "Epoch 5/10\n",
      "7/7 [==============================] - 2s 322ms/step - loss: 0.0091 - accuracy: 1.0000 - val_loss: 4.0665e-04 - val_accuracy: 1.0000\n",
      "Epoch 6/10\n",
      "7/7 [==============================] - 2s 339ms/step - loss: 0.0111 - accuracy: 1.0000 - val_loss: 8.9356e-04 - val_accuracy: 1.0000\n",
      "Epoch 7/10\n",
      "7/7 [==============================] - 2s 328ms/step - loss: 0.0182 - accuracy: 0.9955 - val_loss: 3.6614e-04 - val_accuracy: 1.0000\n",
      "Epoch 8/10\n",
      "7/7 [==============================] - 2s 309ms/step - loss: 0.0359 - accuracy: 0.9866 - val_loss: 5.9427e-04 - val_accuracy: 1.0000\n",
      "Epoch 9/10\n",
      "7/7 [==============================] - 2s 307ms/step - loss: 0.0271 - accuracy: 0.9866 - val_loss: 3.5551e-04 - val_accuracy: 1.0000\n",
      "Epoch 10/10\n",
      "7/7 [==============================] - 2s 315ms/step - loss: 0.0182 - accuracy: 0.9955 - val_loss: 0.0036 - val_accuracy: 1.0000\n"
     ]
    },
    {
     "data": {
      "text/plain": [
       "<keras.callbacks.callbacks.History at 0x7f71e3eaec88>"
      ]
     },
     "execution_count": 42,
     "metadata": {},
     "output_type": "execute_result"
    }
   ],
   "source": [
    "#FITING GENERATOR TO OUR CNN MODEL\n",
    "\n",
    "classifier.fit_generator(\n",
    "        training_set,\n",
    "        steps_per_epoch=224//32,\n",
    "        nb_epoch=10,\n",
    "        validation_data=validation_set,\n",
    "        validation_steps=28//7)\n"
   ]
  },
  {
   "cell_type": "code",
   "execution_count": 43,
   "metadata": {},
   "outputs": [],
   "source": [
    "classifier.save_weights('cnnaugmentation.h5')  # always save your weights after training or during training"
   ]
  },
  {
   "cell_type": "code",
   "execution_count": 44,
   "metadata": {
    "collapsed": true
   },
   "outputs": [
    {
     "name": "stdout",
     "output_type": "stream",
     "text": [
      "Model: \"sequential_1\"\n",
      "_________________________________________________________________\n",
      "Layer (type)                 Output Shape              Param #   \n",
      "=================================================================\n",
      "conv0 (Conv2D)               (None, 62, 62, 32)        896       \n",
      "_________________________________________________________________\n",
      "bn0 (BatchNormalization)     (None, 62, 62, 32)        128       \n",
      "_________________________________________________________________\n",
      "max_pooling2d_1 (MaxPooling2 (None, 31, 31, 32)        0         \n",
      "_________________________________________________________________\n",
      "conv2d_1 (Conv2D)            (None, 29, 29, 32)        9248      \n",
      "_________________________________________________________________\n",
      "max_pooling2d_2 (MaxPooling2 (None, 14, 14, 32)        0         \n",
      "_________________________________________________________________\n",
      "conv2d_2 (Conv2D)            (None, 12, 12, 64)        18496     \n",
      "_________________________________________________________________\n",
      "max_pooling2d_3 (MaxPooling2 (None, 6, 6, 64)          0         \n",
      "_________________________________________________________________\n",
      "flatten_1 (Flatten)          (None, 2304)              0         \n",
      "_________________________________________________________________\n",
      "dense_1 (Dense)              (None, 128)               295040    \n",
      "_________________________________________________________________\n",
      "dropout_1 (Dropout)          (None, 128)               0         \n",
      "_________________________________________________________________\n",
      "dense_2 (Dense)              (None, 1)                 129       \n",
      "=================================================================\n",
      "Total params: 323,937\n",
      "Trainable params: 323,873\n",
      "Non-trainable params: 64\n",
      "_________________________________________________________________\n"
     ]
    }
   ],
   "source": [
    "classifier.summary()"
   ]
  },
  {
   "cell_type": "code",
   "execution_count": 49,
   "metadata": {},
   "outputs": [],
   "source": [
    "y_pridict=classifier.predict_generator(test_set, 28//7)"
   ]
  },
  {
   "cell_type": "code",
   "execution_count": 52,
   "metadata": {
    "collapsed": true
   },
   "outputs": [
    {
     "name": "stdout",
     "output_type": "stream",
     "text": [
      "Found 28 images belonging to 2 classes.\n"
     ]
    },
    {
     "data": {
      "text/plain": [
       "array([[9.9998558e-01, 1.4424324e-05],\n",
       "       [9.9988627e-01, 1.1372566e-04],\n",
       "       [1.2590542e-06, 9.9999875e-01],\n",
       "       [9.9991059e-01, 8.9406967e-05],\n",
       "       [9.9980623e-01, 1.9377470e-04],\n",
       "       [9.9990618e-01, 9.3817711e-05],\n",
       "       [9.9998057e-01, 1.9431114e-05]], dtype=float32)"
      ]
     },
     "execution_count": 52,
     "metadata": {},
     "output_type": "execute_result"
    }
   ],
   "source": [
    "test_set = test_datagen.flow_from_directory(test_pth,\n",
    "                                            target_size = (64, 64),\n",
    "                                            batch_size = 7,\n",
    "                                            class_mode ='binary' ,\n",
    "                                            )\n",
    "\n",
    "x_test,y_test=next(test_set)\n",
    "\n",
    "pred=classifier.predict(x_test)\n",
    "pred=np.hstack([pred,1-pred])\n",
    "pred"
   ]
  },
  {
   "cell_type": "code",
   "execution_count": 59,
   "metadata": {
    "collapsed": true
   },
   "outputs": [
    {
     "name": "stdout",
     "output_type": "stream",
     "text": [
      "non corona\n"
     ]
    },
    {
     "data": {
      "image/png": "[encoded data removed]",
      "text/plain": [
       "<Figure size 432x288 with 1 Axes>"
      ]
     },
     "metadata": {
      "needs_background": "light"
     },
     "output_type": "display_data"
    }
   ],
   "source": [
    "plt.imshow(x_test[1])\n",
    "if(y_pridict[1]>0.5):\n",
    "    print('corona')\n",
    "else:\n",
    "    print('non corona')\n",
    "    \n",
    "    \n"
   ]
  },
  {
   "cell_type": "code",
   "execution_count": 60,
   "metadata": {
    "collapsed": true
   },
   "outputs": [
    {
     "name": "stdout",
     "output_type": "stream",
     "text": [
      "corona\n"
     ]
    },
    {
     "data": {
      "image/png": "[encoded data removed]",
      "text/plain": [
       "<Figure size 432x288 with 1 Axes>"
      ]
     },
     "metadata": {
      "needs_background": "light"
     },
     "output_type": "display_data"
    }
   ],
   "source": [
    "plt.imshow(x_test[6])\n",
    "if(y_pridict[6]>0.5):\n",
    "    print('corona')\n",
    "else:\n",
    "    print('non corona')"
   ]
  },
  {
   "cell_type": "markdown",
   "metadata": {},
   "source": [
    "TRANSERFER LEARNING"
   ]
  },
  {
   "cell_type": "code",
   "execution_count": 5,
   "metadata": {},
   "outputs": [],
   "source": [
    "import ssl\n",
    "\n",
    "ssl._create_default_https_context = ssl._create_unverified_context\n",
    "\n",
    "vg16=keras.applications.VGG16(include_top=False,weights=\"imagenet\")\n"
   ]
  },
  {
   "cell_type": "code",
   "execution_count": 491,
   "metadata": {
    "collapsed": true
   },
   "outputs": [
    {
     "name": "stdout",
     "output_type": "stream",
     "text": [
      "Model: \"vgg16\"\n",
      "_________________________________________________________________\n",
      "Layer (type)                 Output Shape              Param #   \n",
      "=================================================================\n",
      "input_10 (InputLayer)        (None, None, None, 3)     0         \n",
      "_________________________________________________________________\n",
      "block1_conv1 (Conv2D)        (None, None, None, 64)    1792      \n",
      "_________________________________________________________________\n",
      "block1_conv2 (Conv2D)        (None, None, None, 64)    36928     \n",
      "_________________________________________________________________\n",
      "block1_pool (MaxPooling2D)   (None, None, None, 64)    0         \n",
      "_________________________________________________________________\n",
      "block2_conv1 (Conv2D)        (None, None, None, 128)   73856     \n",
      "_________________________________________________________________\n",
      "block2_conv2 (Conv2D)        (None, None, None, 128)   147584    \n",
      "_________________________________________________________________\n",
      "block2_pool (MaxPooling2D)   (None, None, None, 128)   0         \n",
      "_________________________________________________________________\n",
      "block3_conv1 (Conv2D)        (None, None, None, 256)   295168    \n",
      "_________________________________________________________________\n",
      "block3_conv2 (Conv2D)        (None, None, None, 256)   590080    \n",
      "_________________________________________________________________\n",
      "block3_conv3 (Conv2D)        (None, None, None, 256)   590080    \n",
      "_________________________________________________________________\n",
      "block3_pool (MaxPooling2D)   (None, None, None, 256)   0         \n",
      "_________________________________________________________________\n",
      "block4_conv1 (Conv2D)        (None, None, None, 512)   1180160   \n",
      "_________________________________________________________________\n",
      "block4_conv2 (Conv2D)        (None, None, None, 512)   2359808   \n",
      "_________________________________________________________________\n",
      "block4_conv3 (Conv2D)        (None, None, None, 512)   2359808   \n",
      "_________________________________________________________________\n",
      "block4_pool (MaxPooling2D)   (None, None, None, 512)   0         \n",
      "_________________________________________________________________\n",
      "block5_conv1 (Conv2D)        (None, None, None, 512)   2359808   \n",
      "_________________________________________________________________\n",
      "block5_conv2 (Conv2D)        (None, None, None, 512)   2359808   \n",
      "_________________________________________________________________\n",
      "block5_conv3 (Conv2D)        (None, None, None, 512)   2359808   \n",
      "_________________________________________________________________\n",
      "block5_pool (MaxPooling2D)   (None, None, None, 512)   0         \n",
      "=================================================================\n",
      "Total params: 14,714,688\n",
      "Trainable params: 14,714,688\n",
      "Non-trainable params: 0\n",
      "_________________________________________________________________\n"
     ]
    }
   ],
   "source": [
    "\n",
    "vg16.summary()"
   ]
  },
  {
   "cell_type": "code",
   "execution_count": 492,
   "metadata": {},
   "outputs": [
    {
     "name": "stderr",
     "output_type": "stream",
     "text": [
      "/home/heroo/snap/jupyter/common/lib/python3.7/site-packages/keras_applications/resnet50.py:265: UserWarning: The output shape of `ResNet50(include_top=False)` has been changed since Keras 2.2.0.\n",
      "  warnings.warn('The output shape of `ResNet50(include_top=False)` '\n"
     ]
    }
   ],
   "source": [
    "#loading resnet50 weight\n",
    "\n",
    "model_resnet50 = keras.applications.ResNet50(weights='imagenet',include_top=False)"
   ]
  },
  {
   "cell_type": "code",
   "execution_count": 107,
   "metadata": {},
   "outputs": [],
   "source": [
    "# dimensions of our images.\n",
    "image_width, image_height = 64,64\n",
    "\n",
    "train_dir = '/home/heroo/datascience/output/train'\n",
    "validation_dir = '/home/heroo/datascience/output/val'\n",
    "test_dir='/home/heroo/datascience/output/test'\n",
    "\n",
    "total_train_image = len(training_set.filenames) \n",
    "total_validation_image = len(validation_set.filenames) \n",
    "total_test_image = len(test_set.filenames) \n",
    "\n",
    "epochs = 10\n",
    "batch_size =16\n",
    "v_batch_size=10"
   ]
  },
  {
   "cell_type": "code",
   "execution_count": 28,
   "metadata": {},
   "outputs": [
    {
     "name": "stdout",
     "output_type": "stream",
     "text": [
      "total number of train image :  224\n"
     ]
    }
   ],
   "source": [
    " print('total number of train image : ',total_train_image)"
   ]
  },
  {
   "cell_type": "code",
   "execution_count": 29,
   "metadata": {},
   "outputs": [
    {
     "name": "stdout",
     "output_type": "stream",
     "text": [
      "total number of valid image :  28\n"
     ]
    }
   ],
   "source": [
    " print('total number of valid image : ',total_validation_image)"
   ]
  },
  {
   "cell_type": "code",
   "execution_count": 30,
   "metadata": {},
   "outputs": [
    {
     "name": "stdout",
     "output_type": "stream",
     "text": [
      "total number of test image :  28\n"
     ]
    }
   ],
   "source": [
    " print('total number of test image : ',total_test_image)"
   ]
  },
  {
   "cell_type": "code",
   "execution_count": 31,
   "metadata": {
    "scrolled": true
   },
   "outputs": [
    {
     "name": "stdout",
     "output_type": "stream",
     "text": [
      "Found 224 images belonging to 2 classes.\n"
     ]
    }
   ],
   "source": [
    "#Weight and feature calculation using vgg16 for training set\n",
    "\n",
    "\n",
    "training_gen = train_datagen.flow_from_directory(train_dir,\n",
    "        target_size=(image_width, image_height),\n",
    "        batch_size=batch_size,\n",
    "        class_mode=None,\n",
    "        shuffle=False)\n",
    "\n",
    "\n",
    "bottleneck_features_train = vg16.predict_generator(training_gen, total_train_image//16 )\n",
    "np.save('bottleneck_features_train.npy',bottleneck_features_train)\n"
   ]
  },
  {
   "cell_type": "code",
   "execution_count": null,
   "metadata": {},
   "outputs": [],
   "source": []
  },
  {
   "cell_type": "code",
   "execution_count": 32,
   "metadata": {
    "scrolled": true
   },
   "outputs": [
    {
     "name": "stdout",
     "output_type": "stream",
     "text": [
      "Found 28 images belonging to 2 classes.\n"
     ]
    }
   ],
   "source": [
    "#Weight and feature calculation using vgg16 for validation set\n",
    "\n",
    "validation_gen = test_datagen.flow_from_directory( validation_dir,\n",
    "        target_size=(image_width, image_height),\n",
    "        batch_size=v_batch_size,\n",
    "        class_mode=None,\n",
    "        shuffle=False )\n",
    "\n",
    "\n",
    "\n",
    "bottleneck_features_validation = vg16.predict_generator(validation_gen,total_validation_image//8)\n",
    "np.save('bottleneck_features_validation.npy',bottleneck_features_validation)"
   ]
  },
  {
   "cell_type": "code",
   "execution_count": 33,
   "metadata": {},
   "outputs": [
    {
     "name": "stdout",
     "output_type": "stream",
     "text": [
      "Found 28 images belonging to 2 classes.\n"
     ]
    }
   ],
   "source": [
    "##Weight and feature calculation using vgg16 for test set\n",
    "\n",
    "test_set = test_datagen.flow_from_directory(test_dir,\n",
    "        target_size=(image_width, image_height),\n",
    "        batch_size=v_batch_size,\n",
    "        class_mode=None,\n",
    "        shuffle=False )\n",
    "\n",
    "\n",
    "weight_features_test = vg16.predict_generator(test_set,total_test_image//8) \n",
    "\n",
    "np.save('bottleneck_features_test.npy', weight_features_test)\n"
   ]
  },
  {
   "cell_type": "code",
   "execution_count": null,
   "metadata": {},
   "outputs": [],
   "source": []
  },
  {
   "cell_type": "code",
   "execution_count": 34,
   "metadata": {},
   "outputs": [
    {
     "name": "stdout",
     "output_type": "stream",
     "text": [
      "Found 224 images belonging to 2 classes.\n"
     ]
    }
   ],
   "source": [
    "\n",
    "\n",
    "training_gen = train_datagen.flow_from_directory(train_dir,\n",
    "        target_size=(image_width, image_height),\n",
    "        batch_size=batch_size,\n",
    "        class_mode='binary',\n",
    "        shuffle=False)\n"
   ]
  },
  {
   "cell_type": "code",
   "execution_count": 35,
   "metadata": {},
   "outputs": [],
   "source": [
    "num_of_classes=2\n",
    "train_data = np.load('bottleneck_features_train.npy')\n",
    "\n",
    "train_labels = np.array([0] * (total_train_image// num_of_classes) + [1] * (total_train_image// num_of_classes))\n",
    "\n"
   ]
  },
  {
   "cell_type": "code",
   "execution_count": 36,
   "metadata": {},
   "outputs": [
    {
     "data": {
      "text/plain": [
       "(224, 2, 2, 512)"
      ]
     },
     "execution_count": 36,
     "metadata": {},
     "output_type": "execute_result"
    }
   ],
   "source": [
    "train_data.shape"
   ]
  },
  {
   "cell_type": "code",
   "execution_count": 37,
   "metadata": {},
   "outputs": [
    {
     "data": {
      "text/plain": [
       "(224,)"
      ]
     },
     "execution_count": 37,
     "metadata": {},
     "output_type": "execute_result"
    }
   ],
   "source": [
    "train_labels.shape"
   ]
  },
  {
   "cell_type": "code",
   "execution_count": 38,
   "metadata": {},
   "outputs": [
    {
     "name": "stdout",
     "output_type": "stream",
     "text": [
      "Found 28 images belonging to 2 classes.\n"
     ]
    }
   ],
   "source": [
    "\n",
    "\n",
    "validation_gen = test_datagen.flow_from_directory( validation_dir,\n",
    "        target_size=(image_width, image_height),\n",
    "        batch_size=v_batch_size,\n",
    "        class_mode='binary',\n",
    "        shuffle=False )"
   ]
  },
  {
   "cell_type": "code",
   "execution_count": 39,
   "metadata": {},
   "outputs": [],
   "source": [
    "num_of_classes=2\n",
    "validation_data = np.load('bottleneck_features_validation.npy')\n",
    "validation_labels = np.array([0] * (total_validation_image//num_of_classes) + [1] * (total_validation_image// num_of_classes))\n"
   ]
  },
  {
   "cell_type": "code",
   "execution_count": 40,
   "metadata": {},
   "outputs": [
    {
     "data": {
      "text/plain": [
       "(28, 2, 2, 512)"
      ]
     },
     "execution_count": 40,
     "metadata": {},
     "output_type": "execute_result"
    }
   ],
   "source": [
    "validation_data.shape"
   ]
  },
  {
   "cell_type": "code",
   "execution_count": 41,
   "metadata": {},
   "outputs": [
    {
     "data": {
      "text/plain": [
       "(28,)"
      ]
     },
     "execution_count": 41,
     "metadata": {},
     "output_type": "execute_result"
    }
   ],
   "source": [
    "validation_labels.shape"
   ]
  },
  {
   "cell_type": "code",
   "execution_count": 42,
   "metadata": {},
   "outputs": [
    {
     "name": "stdout",
     "output_type": "stream",
     "text": [
      "Found 28 images belonging to 2 classes.\n"
     ]
    }
   ],
   "source": [
    "test_set = test_datagen.flow_from_directory(test_dir,\n",
    "        target_size=(image_width, image_height),\n",
    "        batch_size=v_batch_size,\n",
    "        class_mode='binary',\n",
    "        shuffle=False )"
   ]
  },
  {
   "cell_type": "code",
   "execution_count": 43,
   "metadata": {},
   "outputs": [],
   "source": [
    "num_of_classes=2\n",
    "test_data = np.load('bottleneck_features_test.npy')\n",
    "test_labels = np.array([0] * (total_test_image//num_of_classes) + [1] * (total_test_image // num_of_classes))\n"
   ]
  },
  {
   "cell_type": "code",
   "execution_count": 44,
   "metadata": {},
   "outputs": [
    {
     "data": {
      "text/plain": [
       "(28, 2, 2, 512)"
      ]
     },
     "execution_count": 44,
     "metadata": {},
     "output_type": "execute_result"
    }
   ],
   "source": [
    "test_data.shape"
   ]
  },
  {
   "cell_type": "code",
   "execution_count": 45,
   "metadata": {},
   "outputs": [
    {
     "data": {
      "text/plain": [
       "(28,)"
      ]
     },
     "execution_count": 45,
     "metadata": {},
     "output_type": "execute_result"
    }
   ],
   "source": [
    "test_labels.shape"
   ]
  },
  {
   "cell_type": "code",
   "execution_count": 68,
   "metadata": {
    "scrolled": false
   },
   "outputs": [],
   "source": [
    "#CREATING NEW cnn  model\n",
    "vg16 = Sequential()\n",
    "vg16.add(Flatten(input_shape=train_data.shape[1:]))\n",
    "vg16.add(Dense(256, activation='relu'))\n",
    "vg16.add(Dropout(0.5)) \n",
    "vg16.add(Dense(128, activation='relu')) \n",
    "vg16.add(Dropout(0.3)) \n",
    "vg16.add(Dense(units=1, activation='sigmoid'))\n",
    "\n",
    "\n",
    "vg16.compile(loss='binary_crossentropy',\n",
    "   optimizer='rmsprop',\n",
    "   metrics=['accuracy'])\n",
    "\n"
   ]
  },
  {
   "cell_type": "code",
   "execution_count": 69,
   "metadata": {
    "collapsed": true
   },
   "outputs": [
    {
     "name": "stdout",
     "output_type": "stream",
     "text": [
      "Model: \"sequential_1\"\n",
      "_________________________________________________________________\n",
      "Layer (type)                 Output Shape              Param #   \n",
      "=================================================================\n",
      "conv0 (Conv2D)               (None, 62, 62, 32)        896       \n",
      "_________________________________________________________________\n",
      "bn0 (BatchNormalization)     (None, 62, 62, 32)        128       \n",
      "_________________________________________________________________\n",
      "max_pooling2d_1 (MaxPooling2 (None, 31, 31, 32)        0         \n",
      "_________________________________________________________________\n",
      "conv2d_1 (Conv2D)            (None, 29, 29, 32)        9248      \n",
      "_________________________________________________________________\n",
      "max_pooling2d_2 (MaxPooling2 (None, 14, 14, 32)        0         \n",
      "_________________________________________________________________\n",
      "conv2d_2 (Conv2D)            (None, 12, 12, 64)        18496     \n",
      "_________________________________________________________________\n",
      "max_pooling2d_3 (MaxPooling2 (None, 6, 6, 64)          0         \n",
      "_________________________________________________________________\n",
      "flatten_1 (Flatten)          (None, 2304)              0         \n",
      "_________________________________________________________________\n",
      "dense_1 (Dense)              (None, 128)               295040    \n",
      "_________________________________________________________________\n",
      "dropout_1 (Dropout)          (None, 128)               0         \n",
      "_________________________________________________________________\n",
      "dense_2 (Dense)              (None, 1)                 129       \n",
      "=================================================================\n",
      "Total params: 323,937\n",
      "Trainable params: 323,873\n",
      "Non-trainable params: 64\n",
      "_________________________________________________________________\n"
     ]
    }
   ],
   "source": [
    "classifier.summary()"
   ]
  },
  {
   "cell_type": "raw",
   "metadata": {},
   "source": []
  },
  {
   "cell_type": "code",
   "execution_count": 70,
   "metadata": {
    "collapsed": true
   },
   "outputs": [
    {
     "name": "stdout",
     "output_type": "stream",
     "text": [
      "Train on 224 samples, validate on 28 samples\n",
      "Epoch 1/40\n",
      "224/224 [==============================] - 1s 4ms/step - loss: 0.4936 - accuracy: 0.7366 - val_loss: 0.1211 - val_accuracy: 0.9643\n",
      "Epoch 2/40\n",
      "224/224 [==============================] - 0s 546us/step - loss: 0.1823 - accuracy: 0.9330 - val_loss: 0.3187 - val_accuracy: 0.8214\n",
      "Epoch 3/40\n",
      "224/224 [==============================] - 0s 539us/step - loss: 0.1211 - accuracy: 0.9464 - val_loss: 0.0845 - val_accuracy: 0.9643\n",
      "Epoch 4/40\n",
      "224/224 [==============================] - 0s 501us/step - loss: 0.0771 - accuracy: 0.9688 - val_loss: 0.0551 - val_accuracy: 0.9643\n",
      "Epoch 5/40\n",
      "224/224 [==============================] - 0s 488us/step - loss: 0.0443 - accuracy: 0.9911 - val_loss: 0.0795 - val_accuracy: 0.9643\n",
      "Epoch 6/40\n",
      "224/224 [==============================] - 0s 587us/step - loss: 0.0612 - accuracy: 0.9777 - val_loss: 0.0989 - val_accuracy: 0.9643\n",
      "Epoch 7/40\n",
      "224/224 [==============================] - 0s 573us/step - loss: 0.0328 - accuracy: 0.9866 - val_loss: 0.1031 - val_accuracy: 0.9643\n",
      "Epoch 8/40\n",
      "224/224 [==============================] - 0s 517us/step - loss: 0.0420 - accuracy: 0.9911 - val_loss: 0.0270 - val_accuracy: 0.9643\n",
      "Epoch 9/40\n",
      "224/224 [==============================] - 0s 560us/step - loss: 0.0140 - accuracy: 0.9955 - val_loss: 0.1155 - val_accuracy: 0.9643\n",
      "Epoch 10/40\n",
      "224/224 [==============================] - 0s 557us/step - loss: 0.0368 - accuracy: 0.9911 - val_loss: 0.0453 - val_accuracy: 0.9643\n",
      "Epoch 11/40\n",
      "224/224 [==============================] - 0s 527us/step - loss: 0.0336 - accuracy: 0.9866 - val_loss: 0.1788 - val_accuracy: 0.9643\n",
      "Epoch 12/40\n",
      "224/224 [==============================] - 0s 484us/step - loss: 0.0146 - accuracy: 0.9955 - val_loss: 0.0917 - val_accuracy: 0.9643\n",
      "Epoch 13/40\n",
      "224/224 [==============================] - 0s 498us/step - loss: 0.0024 - accuracy: 1.0000 - val_loss: 0.1375 - val_accuracy: 0.9643\n",
      "Epoch 14/40\n",
      "224/224 [==============================] - 0s 462us/step - loss: 0.0042 - accuracy: 1.0000 - val_loss: 0.0115 - val_accuracy: 1.0000\n",
      "Epoch 15/40\n",
      "224/224 [==============================] - 0s 499us/step - loss: 0.0753 - accuracy: 0.9821 - val_loss: 0.0311 - val_accuracy: 0.9643\n",
      "Epoch 16/40\n",
      "224/224 [==============================] - 0s 523us/step - loss: 0.0036 - accuracy: 1.0000 - val_loss: 0.1507 - val_accuracy: 0.9643\n",
      "Epoch 17/40\n",
      "224/224 [==============================] - 0s 593us/step - loss: 0.0011 - accuracy: 1.0000 - val_loss: 0.1972 - val_accuracy: 0.9643\n",
      "Epoch 18/40\n",
      "224/224 [==============================] - 0s 611us/step - loss: 0.0220 - accuracy: 0.9911 - val_loss: 0.2165 - val_accuracy: 0.9643\n",
      "Epoch 19/40\n",
      "224/224 [==============================] - 0s 586us/step - loss: 0.0013 - accuracy: 1.0000 - val_loss: 0.2021 - val_accuracy: 0.9643\n",
      "Epoch 20/40\n",
      "224/224 [==============================] - 0s 594us/step - loss: 0.0142 - accuracy: 0.9955 - val_loss: 0.0745 - val_accuracy: 0.9643\n",
      "Epoch 21/40\n",
      "224/224 [==============================] - 0s 598us/step - loss: 0.0029 - accuracy: 1.0000 - val_loss: 0.1963 - val_accuracy: 0.9643\n",
      "Epoch 22/40\n",
      "224/224 [==============================] - 0s 576us/step - loss: 0.0114 - accuracy: 0.9955 - val_loss: 0.1262 - val_accuracy: 0.9643\n",
      "Epoch 23/40\n",
      "224/224 [==============================] - 0s 584us/step - loss: 0.0014 - accuracy: 1.0000 - val_loss: 0.2062 - val_accuracy: 0.9643\n",
      "Epoch 24/40\n",
      "224/224 [==============================] - 0s 527us/step - loss: 0.0203 - accuracy: 0.9955 - val_loss: 0.1518 - val_accuracy: 0.9643\n",
      "Epoch 25/40\n",
      "224/224 [==============================] - 0s 487us/step - loss: 7.8536e-04 - accuracy: 1.0000 - val_loss: 0.1473 - val_accuracy: 0.9643\n",
      "Epoch 26/40\n",
      "224/224 [==============================] - 0s 595us/step - loss: 3.4599e-04 - accuracy: 1.0000 - val_loss: 0.0481 - val_accuracy: 0.9643\n",
      "Epoch 27/40\n",
      "224/224 [==============================] - 0s 625us/step - loss: 2.3345e-04 - accuracy: 1.0000 - val_loss: 0.1558 - val_accuracy: 0.9643\n",
      "Epoch 28/40\n",
      "224/224 [==============================] - 0s 555us/step - loss: 0.0049 - accuracy: 0.9955 - val_loss: 0.2427 - val_accuracy: 0.9643\n",
      "Epoch 29/40\n",
      "224/224 [==============================] - 0s 498us/step - loss: 3.6892e-04 - accuracy: 1.0000 - val_loss: 0.4944 - val_accuracy: 0.9643\n",
      "Epoch 30/40\n",
      "224/224 [==============================] - 0s 517us/step - loss: 0.0473 - accuracy: 0.9955 - val_loss: 0.1533 - val_accuracy: 0.9643\n",
      "Epoch 31/40\n",
      "224/224 [==============================] - 0s 514us/step - loss: 3.1601e-04 - accuracy: 1.0000 - val_loss: 0.3475 - val_accuracy: 0.9643\n",
      "Epoch 32/40\n",
      "224/224 [==============================] - 0s 515us/step - loss: 6.7085e-05 - accuracy: 1.0000 - val_loss: 0.0281 - val_accuracy: 0.9643\n",
      "Epoch 33/40\n",
      "224/224 [==============================] - 0s 530us/step - loss: 1.1033e-04 - accuracy: 1.0000 - val_loss: 0.2832 - val_accuracy: 0.9643\n",
      "Epoch 34/40\n",
      "224/224 [==============================] - 0s 592us/step - loss: 1.4417e-05 - accuracy: 1.0000 - val_loss: 0.0903 - val_accuracy: 0.9643\n",
      "Epoch 35/40\n",
      "224/224 [==============================] - 0s 518us/step - loss: 4.8511e-05 - accuracy: 1.0000 - val_loss: 1.6854e-04 - val_accuracy: 1.0000\n",
      "Epoch 36/40\n",
      "224/224 [==============================] - 0s 511us/step - loss: 1.4160e-04 - accuracy: 1.0000 - val_loss: 0.3382 - val_accuracy: 0.9643\n",
      "Epoch 37/40\n",
      "224/224 [==============================] - 0s 473us/step - loss: 5.6749e-06 - accuracy: 1.0000 - val_loss: 0.1435 - val_accuracy: 0.9643\n",
      "Epoch 38/40\n",
      "224/224 [==============================] - 0s 484us/step - loss: 0.0039 - accuracy: 0.9955 - val_loss: 0.3683 - val_accuracy: 0.9643\n",
      "Epoch 39/40\n",
      "224/224 [==============================] - 0s 434us/step - loss: 6.2988e-06 - accuracy: 1.0000 - val_loss: 0.2672 - val_accuracy: 0.9643\n",
      "Epoch 40/40\n",
      "224/224 [==============================] - 0s 440us/step - loss: 0.0233 - accuracy: 0.9955 - val_loss: 0.5204 - val_accuracy: 0.9643\n"
     ]
    }
   ],
   "source": [
    "epochs=40\n",
    "\n",
    "history=vg16.fit(train_data, train_labels,\n",
    "              epochs=epochs,\n",
    "              batch_size=batch_size,\n",
    "              validation_data=(validation_data, validation_labels))\n",
    "\n",
    "vg16.save_weights('bottleneck_fc_model.h5')"
   ]
  },
  {
   "cell_type": "code",
   "execution_count": 71,
   "metadata": {},
   "outputs": [
    {
     "name": "stdout",
     "output_type": "stream",
     "text": [
      "28/28 [==============================] - 0s 266us/step\n",
      "[INFO] Validation accuracy: 96.43%\n",
      "[INFO] Validation Loss: 0.5204408969948731\n"
     ]
    }
   ],
   "source": [
    " ####validation_loss AND validation_accuracy\n",
    "(validation_loss, validation_accuracy) = vg16.evaluate( \n",
    "    validation_data, validation_labels, batch_size=10,     verbose=1)\n",
    "\n",
    "print(\"[INFO] Validation accuracy: {:.2f}%\".format(validation_accuracy * 100)) \n",
    "print(\"[INFO] Validation Loss: {}\".format(validation_loss)) "
   ]
  },
  {
   "cell_type": "code",
   "execution_count": 72,
   "metadata": {},
   "outputs": [
    {
     "name": "stdout",
     "output_type": "stream",
     "text": [
      "224/224 [==============================] - 0s 76us/step\n",
      "[INFO] Training accuracy: 100.00%\n",
      "[INFO] Training Loss: 2.062065733440686e-05\n"
     ]
    }
   ],
   "source": [
    "####training_loss AND training_accuracy\n",
    "\n",
    "(training_loss, training_accuracy) = vg16.evaluate( \n",
    "    train_data, train_labels, batch_size=batch_size,     verbose=1)\n",
    "\n",
    "print(\"[INFO] Training accuracy: {:.2f}%\".format(training_accuracy * 100)) \n",
    "print(\"[INFO] Training Loss: {}\".format(training_loss)) "
   ]
  },
  {
   "cell_type": "code",
   "execution_count": 73,
   "metadata": {},
   "outputs": [
    {
     "name": "stdout",
     "output_type": "stream",
     "text": [
      "28/28 [==============================] - 0s 67us/step\n",
      "[INFO] Test accuracy: 100.00%\n",
      "[INFO] Test Loss: 0.00011265269858995453\n"
     ]
    }
   ],
   "source": [
    "### test_loss AND test_accuracy\n",
    "(test_loss, test_accuracy) = vg16.evaluate( \n",
    "    test_data, test_labels)\n",
    "\n",
    "\n",
    "print(\"[INFO] Test accuracy: {:.2f}%\".format(test_accuracy * 100)) \n",
    "print(\"[INFO] Test Loss: {}\".format(test_loss)) "
   ]
  },
  {
   "cell_type": "code",
   "execution_count": 74,
   "metadata": {
    "collapsed": true
   },
   "outputs": [
    {
     "data": {
      "image/png": "[encoded data removed]",
      "text/plain": [
       "<Figure size 432x288 with 1 Axes>"
      ]
     },
     "metadata": {
      "needs_background": "light"
     },
     "output_type": "display_data"
    },
    {
     "data": {
      "text/plain": [
       "<Figure size 432x288 with 0 Axes>"
      ]
     },
     "metadata": {},
     "output_type": "display_data"
    }
   ],
   "source": [
    "### Graph beetween training accuracy and validation accuracy\n",
    "Train_accuracy = history.history['accuracy']\n",
    "validation_accuracy = history.history['val_accuracy']\n",
    "epochs = range(0,40)\n",
    "plt.plot(epochs, Train_accuracy, 'r', label='Training accuracy')\n",
    "plt.plot(epochs, validation_accuracy, 'b', label='Validation accuracy')\n",
    "plt.title('Training accuracy and validation accuracy')\n",
    "plt.ylabel('Accuracy') \n",
    "plt.xlabel('Epochs')\n",
    "plt.legend()\n",
    "plt.figure()\n",
    "plt.show()"
   ]
  },
  {
   "cell_type": "code",
   "execution_count": 75,
   "metadata": {},
   "outputs": [
    {
     "data": {
      "image/png": "[encoded data removed]",
      "text/plain": [
       "<Figure size 432x288 with 1 Axes>"
      ]
     },
     "metadata": {
      "needs_background": "light"
     },
     "output_type": "display_data"
    },
    {
     "data": {
      "text/plain": [
       "<Figure size 432x288 with 0 Axes>"
      ]
     },
     "metadata": {},
     "output_type": "display_data"
    }
   ],
   "source": [
    "###Graph beetween training loss and validation loss\n",
    "Training_Loss = history.history['loss']\n",
    "validation_loss =history.history['val_loss']\n",
    "epochs = range(0,40)\n",
    "plt.plot(epochs, Training_Loss, 'r', label='Training Loss')\n",
    "plt.plot(epochs, validation_loss, 'b', label='Validation loss')\n",
    "plt.title('Training loss and validation loss')\n",
    "plt.ylabel('Accuracy') \n",
    "plt.xlabel('Epochs')\n",
    "plt.legend()\n",
    "plt.figure()\n",
    "plt.show()"
   ]
  },
  {
   "cell_type": "markdown",
   "metadata": {},
   "source": [
    "FINE TUNING :----"
   ]
  },
  {
   "cell_type": "code",
   "execution_count": 129,
   "metadata": {},
   "outputs": [],
   "source": [
    "\n",
    "from keras.models import Model\n"
   ]
  },
  {
   "cell_type": "code",
   "execution_count": 139,
   "metadata": {},
   "outputs": [
    {
     "name": "stderr",
     "output_type": "stream",
     "text": [
      "/snap/jupyter/6/lib/python3.7/site-packages/ipykernel_launcher.py:9: UserWarning: Update your `Model` call to the Keras 2 API: `Model(inputs=Tensor(\"in..., outputs=Tensor(\"se...)`\n",
      "  if __name__ == '__main__':\n"
     ]
    }
   ],
   "source": [
    "model = applications.VGG16(include_top=False,classes=2,input_shape=(64,64,3),weights='imagenet')\n",
    "\n",
    "top_model=Sequential()\n",
    "top_model.add(Flatten(input_shape=model.output_shape[1:]))\n",
    "top_model.add(Dense(256,activation='relu'))\n",
    "top_model.add(Dense(128,activation='relu'))\n",
    "top_model.add(Dense(1,activation='softmax'))\n",
    "top_model.load_weights('bottleneck_fc_model.h5') \n",
    "model= Model(inputs=model.input, output=top_model(model.output)) \n"
   ]
  },
  {
   "cell_type": "code",
   "execution_count": 140,
   "metadata": {},
   "outputs": [],
   "source": [
    "# set the first 25 layers (up to the last conv block)\n",
    "# to non-trainable (weights will not be updated)\n",
    "for layer in model.layers[:25]:\n",
    "    layer.trainable = False\n",
    "\n",
    "# compile the model with a SGD/momentum optimizer\n",
    "# and a very slow learning rate.\n",
    "model.compile(loss='binary_crossentropy',\n",
    "              optimizer=optimizers.SGD(lr=1e-4, momentum=0.9),\n",
    "              metrics=['accuracy'])\n"
   ]
  },
  {
   "cell_type": "code",
   "execution_count": 143,
   "metadata": {
    "collapsed": true
   },
   "outputs": [
    {
     "name": "stdout",
     "output_type": "stream",
     "text": [
      "Model: \"model_5\"\n",
      "_________________________________________________________________\n",
      "Layer (type)                 Output Shape              Param #   \n",
      "=================================================================\n",
      "input_15 (InputLayer)        (None, 64, 64, 3)         0         \n",
      "_________________________________________________________________\n",
      "block1_conv1 (Conv2D)        (None, 64, 64, 64)        1792      \n",
      "_________________________________________________________________\n",
      "block1_conv2 (Conv2D)        (None, 64, 64, 64)        36928     \n",
      "_________________________________________________________________\n",
      "block1_pool (MaxPooling2D)   (None, 32, 32, 64)        0         \n",
      "_________________________________________________________________\n",
      "block2_conv1 (Conv2D)        (None, 32, 32, 128)       73856     \n",
      "_________________________________________________________________\n",
      "block2_conv2 (Conv2D)        (None, 32, 32, 128)       147584    \n",
      "_________________________________________________________________\n",
      "block2_pool (MaxPooling2D)   (None, 16, 16, 128)       0         \n",
      "_________________________________________________________________\n",
      "block3_conv1 (Conv2D)        (None, 16, 16, 256)       295168    \n",
      "_________________________________________________________________\n",
      "block3_conv2 (Conv2D)        (None, 16, 16, 256)       590080    \n",
      "_________________________________________________________________\n",
      "block3_conv3 (Conv2D)        (None, 16, 16, 256)       590080    \n",
      "_________________________________________________________________\n",
      "block3_pool (MaxPooling2D)   (None, 8, 8, 256)         0         \n",
      "_________________________________________________________________\n",
      "block4_conv1 (Conv2D)        (None, 8, 8, 512)         1180160   \n",
      "_________________________________________________________________\n",
      "block4_conv2 (Conv2D)        (None, 8, 8, 512)         2359808   \n",
      "_________________________________________________________________\n",
      "block4_conv3 (Conv2D)        (None, 8, 8, 512)         2359808   \n",
      "_________________________________________________________________\n",
      "block4_pool (MaxPooling2D)   (None, 4, 4, 512)         0         \n",
      "_________________________________________________________________\n",
      "block5_conv1 (Conv2D)        (None, 4, 4, 512)         2359808   \n",
      "_________________________________________________________________\n",
      "block5_conv2 (Conv2D)        (None, 4, 4, 512)         2359808   \n",
      "_________________________________________________________________\n",
      "block5_conv3 (Conv2D)        (None, 4, 4, 512)         2359808   \n",
      "_________________________________________________________________\n",
      "block5_pool (MaxPooling2D)   (None, 2, 2, 512)         0         \n",
      "_________________________________________________________________\n",
      "sequential_24 (Sequential)   (None, 1)                 557569    \n",
      "=================================================================\n",
      "Total params: 15,272,257\n",
      "Trainable params: 0\n",
      "Non-trainable params: 15,272,257\n",
      "_________________________________________________________________\n",
      "None\n"
     ]
    }
   ],
   "source": [
    "print(model.summary())"
   ]
  },
  {
   "cell_type": "code",
   "execution_count": 144,
   "metadata": {},
   "outputs": [
    {
     "name": "stdout",
     "output_type": "stream",
     "text": [
      "Found 224 images belonging to 2 classes.\n",
      "Found 28 images belonging to 2 classes.\n",
      "Epoch 1/10\n",
      "14/14 [==============================] - 5s 360ms/step - loss: 7.6246 - accuracy: 0.5000 - val_loss: 7.6246 - val_accuracy: 0.5000\n",
      "Epoch 2/10\n",
      "14/14 [==============================] - 5s 351ms/step - loss: 7.6246 - accuracy: 0.5000 - val_loss: 7.6246 - val_accuracy: 0.5000\n",
      "Epoch 3/10\n",
      "14/14 [==============================] - 5s 350ms/step - loss: 7.6246 - accuracy: 0.5000 - val_loss: 7.6246 - val_accuracy: 0.5000\n",
      "Epoch 4/10\n",
      "14/14 [==============================] - 5s 344ms/step - loss: 7.6246 - accuracy: 0.5000 - val_loss: 7.6246 - val_accuracy: 0.5000\n",
      "Epoch 5/10\n",
      "14/14 [==============================] - 5s 338ms/step - loss: 7.6246 - accuracy: 0.5000 - val_loss: 5.7185 - val_accuracy: 0.6250\n",
      "Epoch 6/10\n",
      "14/14 [==============================] - 5s 356ms/step - loss: 7.6246 - accuracy: 0.5000 - val_loss: 10.1662 - val_accuracy: 0.3333\n",
      "Epoch 7/10\n",
      "14/14 [==============================] - 5s 386ms/step - loss: 7.6246 - accuracy: 0.5000 - val_loss: 7.6246 - val_accuracy: 0.5000\n",
      "Epoch 8/10\n",
      "14/14 [==============================] - 6s 408ms/step - loss: 7.6246 - accuracy: 0.5000 - val_loss: 7.6246 - val_accuracy: 0.5000\n",
      "Epoch 9/10\n",
      "14/14 [==============================] - 6s 393ms/step - loss: 7.6246 - accuracy: 0.5000 - val_loss: 8.5777 - val_accuracy: 0.4375\n",
      "Epoch 10/10\n",
      "14/14 [==============================] - 5s 378ms/step - loss: 7.6246 - accuracy: 0.5000 - val_loss: 6.3538 - val_accuracy: 0.5833\n"
     ]
    },
    {
     "data": {
      "text/plain": [
       "<keras.callbacks.callbacks.History at 0x7f56a5c7fcf8>"
      ]
     },
     "execution_count": 144,
     "metadata": {},
     "output_type": "execute_result"
    }
   ],
   "source": [
    "batch_size = 16\n",
    "\n",
    "# prepare data augmentation configuration\n",
    "train_datagen = ImageDataGenerator(\n",
    "        rescale=1./255,\n",
    "        shear_range=0.2,\n",
    "        zoom_range=0.2,\n",
    "        horizontal_flip=True)\n",
    "\n",
    "test_datagen = ImageDataGenerator(rescale=1./255)\n",
    "\n",
    "train_generator = train_datagen.flow_from_directory(\n",
    "        train_dir,\n",
    "        target_size=(image_height, image_width),\n",
    "        batch_size=batch_size,\n",
    "        class_mode='binary')\n",
    "\n",
    "validation_generator = test_datagen.flow_from_directory(\n",
    "        validation_dir,\n",
    "        target_size=(image_height, image_width),\n",
    "        batch_size=batch_size,\n",
    "        class_mode='binary')\n",
    "\n",
    "# fine-tune the model\n",
    "model.fit_generator(\n",
    "        train_generator,\n",
    "        steps_per_epoch=total_train_image // batch_size,\n",
    "        epochs=epochs,\n",
    "        validation_data=validation_generator,\n",
    "        validation_steps=total_validation_image // batch_size)"
   ]
  },
  {
   "cell_type": "code",
   "execution_count": 291,
   "metadata": {},
   "outputs": [
    {
     "name": "stdout",
     "output_type": "stream",
     "text": [
      "Found 28 images belonging to 2 classes.\n"
     ]
    }
   ],
   "source": [
    "test_set=test_datagen.flow_from_directory(\n",
    "        test_dir,\n",
    "        target_size=(image_height, image_width),\n",
    "        batch_size=28,\n",
    "        class_mode='binary')"
   ]
  },
  {
   "cell_type": "code",
   "execution_count": 305,
   "metadata": {},
   "outputs": [],
   "source": [
    "test_img,test_lbl1=next(test_set)"
   ]
  },
  {
   "cell_type": "code",
   "execution_count": 306,
   "metadata": {},
   "outputs": [
    {
     "data": {
      "text/plain": [
       "array([0, 0, 0, 0, 0, 0, 0, 0, 0, 0, 0, 0, 0, 0, 0, 0, 0, 0, 0, 0, 0, 0,\n",
       "       0, 0, 0, 0, 0, 0])"
      ]
     },
     "execution_count": 306,
     "metadata": {},
     "output_type": "execute_result"
    }
   ],
   "source": [
    "y_pred=model.predict(test_img)\n",
    "y_pred= np.argmax(y_pred, axis=1)\n",
    "y_pred"
   ]
  },
  {
   "cell_type": "code",
   "execution_count": 311,
   "metadata": {},
   "outputs": [
    {
     "data": {
      "text/plain": [
       "array([1, 1, 0, 0, 1, 1, 1, 0, 1, 0, 1, 0, 1, 0, 0, 0, 0, 0, 0, 0, 0, 0,\n",
       "       1, 1, 1, 1, 1, 1])"
      ]
     },
     "execution_count": 311,
     "metadata": {},
     "output_type": "execute_result"
    }
   ],
   "source": [
    "test_lbl1=test_lbl1.astype(int)\n",
    "test_lbl1"
   ]
  },
  {
   "cell_type": "code",
   "execution_count": 313,
   "metadata": {},
   "outputs": [
    {
     "data": {
      "image/png": "[encoded data removed]",
      "text/plain": [
       "<Figure size 432x288 with 2 Axes>"
      ]
     },
     "metadata": {
      "needs_background": "light"
     },
     "output_type": "display_data"
    }
   ],
   "source": [
    "import seaborn as sns\n",
    "import matplotlib.pyplot as plt     \n",
    "cm=confusion_matrix(test_lbl1,y_pred)\n",
    "\n",
    "ax= plt.subplot()\n",
    "sns.heatmap(cm, annot=True, ax = ax); #annot=True to annotate cells\n",
    "\n",
    "# labels, title and ticks\n",
    "ax.set_xlabel('Predicted labels');ax.set_ylabel('True labels'); \n",
    "ax.set_title('Confusion Matrix'); \n",
    "ax.yaxis.set_ticklabels(['Corona','Non Corona']); \n",
    "ax.xaxis.set_ticklabels([ 'Corona','Non Corona']);"
   ]
  },
  {
   "cell_type": "code",
   "execution_count": 273,
   "metadata": {},
   "outputs": [
    {
     "data": {
      "text/plain": [
       "array([0, 0, 0, 0, 0, 0, 0, 0, 0, 0, 0, 0, 0, 0, 0, 0, 0, 0, 0, 0, 0, 0,\n",
       "       0, 0, 0, 0, 0, 0])"
      ]
     },
     "execution_count": 273,
     "metadata": {},
     "output_type": "execute_result"
    }
   ],
   "source": [
    "y_pridict=model.predict_generator(test_set)\n",
    "y_pridict=np.argmax(y_pridict,axis=1)\n",
    "\n",
    "y_pridict"
   ]
  },
  {
   "cell_type": "code",
   "execution_count": 274,
   "metadata": {},
   "outputs": [
    {
     "data": {
      "text/plain": [
       "array([0, 0, 0, 0, 0, 0, 0, 0, 0, 0, 0, 0, 0, 0, 1, 1, 1, 1, 1, 1, 1, 1,\n",
       "       1, 1, 1, 1, 1, 1], dtype=int32)"
      ]
     },
     "execution_count": 274,
     "metadata": {},
     "output_type": "execute_result"
    }
   ],
   "source": [
    "test_lbl = test_set.classes \n",
    "\n",
    "# convert the training labels to categorical vectors \n",
    "test_lbl"
   ]
  },
  {
   "cell_type": "code",
   "execution_count": 249,
   "metadata": {},
   "outputs": [],
   "source": [
    "#predicted_classes = np.argmax(y_pridict, axis=1)\n"
   ]
  },
  {
   "cell_type": "code",
   "execution_count": 250,
   "metadata": {},
   "outputs": [],
   "source": [
    " from sklearn.metrics import classification_report"
   ]
  },
  {
   "cell_type": "code",
   "execution_count": 252,
   "metadata": {},
   "outputs": [],
   "source": [
    " target_names = ['corona', 'non corona']"
   ]
  },
  {
   "cell_type": "code",
   "execution_count": 253,
   "metadata": {},
   "outputs": [
    {
     "name": "stdout",
     "output_type": "stream",
     "text": [
      "              precision    recall  f1-score   support\n",
      "\n",
      "      corona       0.50      1.00      0.67        14\n",
      "  non corona       0.00      0.00      0.00        14\n",
      "\n",
      "    accuracy                           0.50        28\n",
      "   macro avg       0.25      0.50      0.33        28\n",
      "weighted avg       0.25      0.50      0.33        28\n",
      "\n"
     ]
    }
   ],
   "source": [
    "print(classification_report(test_lbl,y_pridict, \n",
    " target_names=target_names))"
   ]
  },
  {
   "cell_type": "code",
   "execution_count": 263,
   "metadata": {},
   "outputs": [
    {
     "data": {
      "image/png": "[encoded data removed]",
      "text/plain": [
       "<Figure size 432x288 with 2 Axes>"
      ]
     },
     "metadata": {
      "needs_background": "light"
     },
     "output_type": "display_data"
    }
   ],
   "source": [
    "import seaborn as sns\n",
    "import matplotlib.pyplot as plt     \n",
    "\n",
    "ax= plt.subplot()\n",
    "sns.heatmap(cm, annot=True, ax = ax); #annot=True to annotate cells\n",
    "\n",
    "# labels, title and ticks\n",
    "ax.set_xlabel('Predicted labels');ax.set_ylabel('True labels'); \n",
    "ax.set_title('Confusion Matrix'); \n",
    "ax.yaxis.set_ticklabels(['Non Corona','Corona']); \n",
    "ax.xaxis.set_ticklabels([ 'Corona','Non Corona']);"
   ]
  },
  {
   "cell_type": "code",
   "execution_count": 275,
   "metadata": {},
   "outputs": [
    {
     "data": {
      "text/plain": [
       "array([0, 0, 0, 0, 0, 0, 0, 0, 0, 0, 0, 0, 0, 0, 0, 0])"
      ]
     },
     "execution_count": 275,
     "metadata": {},
     "output_type": "execute_result"
    }
   ],
   "source": []
  },
  {
   "cell_type": "code",
   "execution_count": 277,
   "metadata": {},
   "outputs": [
    {
     "data": {
      "text/plain": [
       "array([0, 0, 0, 0, 0, 0, 0, 0, 0, 0, 0, 0, 0, 0, 1, 1, 1, 1, 1, 1, 1, 1,\n",
       "       1, 1, 1, 1, 1, 1], dtype=int32)"
      ]
     },
     "execution_count": 277,
     "metadata": {},
     "output_type": "execute_result"
    }
   ],
   "source": []
  },
  {
   "cell_type": "code",
   "execution_count": 152,
   "metadata": {
    "scrolled": true
   },
   "outputs": [
    {
     "name": "stdout",
     "output_type": "stream",
     "text": [
      "corona\n"
     ]
    },
    {
     "data": {
      "image/png": "[encoded data removed]",
      "text/plain": [
       "<Figure size 432x288 with 1 Axes>"
      ]
     },
     "metadata": {
      "needs_background": "light"
     },
     "output_type": "display_data"
    }
   ],
   "source": [
    "plt.imshow(test_img[1])\n",
    "if(y_pridict[1]>0.5):\n",
    "    print('corona')\n",
    "else:\n",
    "    print('non corona')\n",
    "    "
   ]
  },
  {
   "cell_type": "code",
   "execution_count": null,
   "metadata": {},
   "outputs": [],
   "source": []
  }
 ],
 "metadata": {
  "kernelspec": {
   "display_name": "Python 3",
   "language": "python",
   "name": "python3"
  },
  "language_info": {
   "codemirror_mode": {
    "name": "ipython",
    "version": 3
   },
   "file_extension": ".py",
   "mimetype": "text/x-python",
   "name": "python",
   "nbconvert_exporter": "python",
   "pygments_lexer": "ipython3",
   "version": "3.7.3"
  }
 },
 "nbformat": 4,
 "nbformat_minor": 2
}
